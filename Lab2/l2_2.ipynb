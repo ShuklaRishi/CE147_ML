{
 "cells": [
  {
   "cell_type": "code",
   "execution_count": 7,
   "metadata": {},
   "outputs": [
    {
     "name": "stdout",
     "output_type": "stream",
     "text": [
      "\n",
      "Data :\n",
      "       Unnamed: 0  Price   Age     KM FuelType   HP  MetColor  Automatic    CC  \\\n",
      "0              0  13500  23.0  46986   Diesel   90       1.0          0  2000   \n",
      "1              1  13750  23.0  72937   Diesel   90       1.0          0  2000   \n",
      "2              2  13950  24.0  41711   Diesel   90       NaN          0  2000   \n",
      "3              3  14950  26.0  48000   Diesel   90       0.0          0  2000   \n",
      "4              4  13750  30.0  38500   Diesel   90       0.0          0  2000   \n",
      "...          ...    ...   ...    ...      ...  ...       ...        ...   ...   \n",
      "1431        1431   7500   NaN  20544   Petrol   86       1.0          0  1300   \n",
      "1432        1432  10845  72.0     ??   Petrol   86       0.0          0  1300   \n",
      "1433        1433   8500   NaN  17016   Petrol   86       0.0          0  1300   \n",
      "1434        1434   7250  70.0     ??      NaN   86       1.0          0  1300   \n",
      "1435        1435   6950  76.0      1   Petrol  110       0.0          0  1600   \n",
      "\n",
      "      Doors  Weight  \n",
      "0     three    1165  \n",
      "1         3    1165  \n",
      "2         3    1165  \n",
      "3         3    1165  \n",
      "4         3    1170  \n",
      "...     ...     ...  \n",
      "1431      3    1025  \n",
      "1432      3    1015  \n",
      "1433      3    1015  \n",
      "1434      3    1015  \n",
      "1435      5    1114  \n",
      "\n",
      "[1436 rows x 11 columns]\n",
      "\n",
      "Data statistics\n",
      "         Unnamed: 0         Price          Age     MetColor    Automatic  \\\n",
      "count  1436.000000   1436.000000  1336.000000  1286.000000  1436.000000   \n",
      "mean    717.500000  10730.824513    55.672156     0.674961     0.055710   \n",
      "std     414.681806   3626.964585    18.589804     0.468572     0.229441   \n",
      "min       0.000000   4350.000000     1.000000     0.000000     0.000000   \n",
      "25%     358.750000   8450.000000    43.000000     0.000000     0.000000   \n",
      "50%     717.500000   9900.000000    60.000000     1.000000     0.000000   \n",
      "75%    1076.250000  11950.000000    70.000000     1.000000     0.000000   \n",
      "max    1435.000000  32500.000000    80.000000     1.000000     1.000000   \n",
      "\n",
      "                CC      Weight  \n",
      "count  1436.000000  1436.00000  \n",
      "mean   1566.827994  1072.45961  \n",
      "std     187.182436    52.64112  \n",
      "min    1300.000000  1000.00000  \n",
      "25%    1400.000000  1040.00000  \n",
      "50%    1600.000000  1070.00000  \n",
      "75%    1600.000000  1085.00000  \n",
      "max    2000.000000  1615.00000  \n"
     ]
    }
   ],
   "source": [
    "import numpy as np\n",
    "import pandas as pd\n",
    "from sklearn.preprocessing import LabelEncoder, OneHotEncoder\n",
    "\n",
    "datasets = pd.read_csv('https://raw.githubusercontent.com/ShuklaRishi/CE147_ML/main/Lab2/Exercise-CarData.csv')\n",
    "print(\"\\nData :\\n\",datasets)\n",
    "print(\"\\nData statistics\\n\",datasets.describe())"
   ]
  },
  {
   "cell_type": "code",
   "execution_count": 8,
   "metadata": {},
   "outputs": [
    {
     "name": "stdout",
     "output_type": "stream",
     "text": [
      "\n",
      "\n",
      "Input : \n",
      " [[23.0 '46986' 'Diesel' ... 2000 'three' 1165]\n",
      " [23.0 '72937' 'Diesel' ... 2000 '3' 1165]\n",
      " [24.0 '41711' 'Diesel' ... 2000 '3' 1165]\n",
      " ...\n",
      " [nan '17016' 'Petrol' ... 1300 '3' 1015]\n",
      " [70.0 '??' nan ... 1300 '3' 1015]\n",
      " [76.0 '1' 'Petrol' ... 1600 '5' 1114]]\n",
      "\n",
      "\n",
      "Output: \n",
      " [13500 13750 13950 ...  8500  7250  6950]\n"
     ]
    }
   ],
   "source": [
    "X = datasets.iloc[:, 2:].values \n",
    "\n",
    "Y = datasets.iloc[:, 1].values \n",
    "\n",
    "print(\"\\n\\nInput : \\n\", X) \n",
    "print(\"\\n\\nOutput: \\n\", Y) "
   ]
  },
  {
   "cell_type": "code",
   "execution_count": 9,
   "metadata": {},
   "outputs": [
    {
     "name": "stdout",
     "output_type": "stream",
     "text": [
      "Before scaling  [1.0 1.0 nan ... 0.0 1.0 0.0]\n"
     ]
    }
   ],
   "source": [
    "le = LabelEncoder()\n",
    "print(\"Before scaling \",X[ : ,4])\n"
   ]
  },
  {
   "cell_type": "code",
   "execution_count": 10,
   "metadata": {},
   "outputs": [
    {
     "name": "stdout",
     "output_type": "stream",
     "text": [
      "\n",
      "\n",
      "after scaling of string data : \n",
      " [1 1 2 ... 0 1 0]\n"
     ]
    }
   ],
   "source": [
    "X[ : ,4] = le.fit_transform(X[ : ,4])\n",
    "FuelTypeData=X[ : ,4]\n",
    "print(\"\\n\\nafter scaling of string data : \\n\", X[ :,4]) "
   ]
  },
  {
   "cell_type": "code",
   "execution_count": 3,
   "metadata": {},
   "outputs": [
    {
     "name": "stdout",
     "output_type": "stream",
     "text": [
      "\n",
      "\n",
      "Dummy :\n",
      "       CNG  Diesel  Petrol\n",
      "0       0       1       0\n",
      "1       0       1       0\n",
      "2       0       1       0\n",
      "3       0       1       0\n",
      "4       0       1       0\n",
      "...   ...     ...     ...\n",
      "1431    0       0       1\n",
      "1432    0       0       1\n",
      "1433    0       0       1\n",
      "1434    0       0       0\n",
      "1435    0       0       1\n",
      "\n",
      "[1436 rows x 3 columns]\n",
      "\n",
      "\n",
      "Final Data :\n",
      "       CNG  Diesel  Petrol  Unnamed: 0   Age     KM   HP  MetColor  Automatic  \\\n",
      "0       0       1       0           0  23.0  46986   90       1.0          0   \n",
      "1       0       1       0           1  23.0  72937   90       1.0          0   \n",
      "2       0       1       0           2  24.0  41711   90       NaN          0   \n",
      "3       0       1       0           3  26.0  48000   90       0.0          0   \n",
      "4       0       1       0           4  30.0  38500   90       0.0          0   \n",
      "...   ...     ...     ...         ...   ...    ...  ...       ...        ...   \n",
      "1431    0       0       1        1431   NaN  20544   86       1.0          0   \n",
      "1432    0       0       1        1432  72.0     ??   86       0.0          0   \n",
      "1433    0       0       1        1433   NaN  17016   86       0.0          0   \n",
      "1434    0       0       0        1434  70.0     ??   86       1.0          0   \n",
      "1435    0       0       1        1435  76.0      1  110       0.0          0   \n",
      "\n",
      "        CC  Doors  Weight  \n",
      "0     2000  three    1165  \n",
      "1     2000      3    1165  \n",
      "2     2000      3    1165  \n",
      "3     2000      3    1165  \n",
      "4     2000      3    1170  \n",
      "...    ...    ...     ...  \n",
      "1431  1300      3    1025  \n",
      "1432  1300      3    1015  \n",
      "1433  1300      3    1015  \n",
      "1434  1300      3    1015  \n",
      "1435  1600      5    1114  \n",
      "\n",
      "[1436 rows x 12 columns]\n"
     ]
    }
   ],
   "source": [
    "dummy = pd.get_dummies(datasets['FuelType'])\n",
    "print(\"\\n\\nDummy :\\n\",dummy)\n",
    "datasets = datasets.drop(['FuelType','Price'],axis=1)\n",
    "datasets = pd.concat([dummy,datasets],axis=1)\n",
    "print(\"\\n\\nFinal Data :\\n\",datasets)"
   ]
  },
  {
   "cell_type": "code",
   "execution_count": 5,
   "metadata": {},
   "outputs": [
    {
     "data": {
      "text/plain": [
       "(1436, 59)"
      ]
     },
     "execution_count": 5,
     "metadata": {},
     "output_type": "execute_result"
    }
   ],
   "source": [
    "onehotencoder = OneHotEncoder()\n",
    "#reshape the 1-D country array to 2-D as fit_transform expects 2-D and finally fit the object \n",
    "x = onehotencoder.fit_transform(datasets.Weight.values.reshape(-1,1)).toarray()\n",
    "x.shape\n"
   ]
  },
  {
   "cell_type": "code",
   "execution_count": 11,
   "metadata": {},
   "outputs": [
    {
     "name": "stdout",
     "output_type": "stream",
     "text": [
      "(1436, 11)\n",
      "11\n",
      "   Unnamed: 0  Price   Age     KM  HP  MetColor  Automatic    CC  Doors  \\\n",
      "0           0  13500  23.0  46986  90       1.0          0  2000  three   \n",
      "1           1  13750  23.0  72937  90       1.0          0  2000      3   \n",
      "2           2  13950  24.0  41711  90       NaN          0  2000      3   \n",
      "3           3  14950  26.0  48000  90       0.0          0  2000      3   \n",
      "4           4  13750  30.0  38500  90       0.0          0  2000      3   \n",
      "\n",
      "   Weight  ...  FuelType_49  FuelType_50  FuelType_51  FuelType_52  \\\n",
      "0    1165  ...          0.0          0.0          0.0          0.0   \n",
      "1    1165  ...          0.0          0.0          0.0          0.0   \n",
      "2    1165  ...          0.0          0.0          0.0          0.0   \n",
      "3    1165  ...          0.0          0.0          0.0          0.0   \n",
      "4    1170  ...          0.0          0.0          0.0          0.0   \n",
      "\n",
      "   FuelType_53  FuelType_54  FuelType_55  FuelType_56  FuelType_57  \\\n",
      "0          0.0          0.0          0.0          0.0          0.0   \n",
      "1          0.0          0.0          0.0          0.0          0.0   \n",
      "2          0.0          0.0          0.0          0.0          0.0   \n",
      "3          0.0          0.0          0.0          0.0          0.0   \n",
      "4          0.0          0.0          0.0          0.0          0.0   \n",
      "\n",
      "   FuelType_58  \n",
      "0          0.0  \n",
      "1          0.0  \n",
      "2          0.0  \n",
      "3          0.0  \n",
      "4          0.0  \n",
      "\n",
      "[5 rows x 69 columns]\n"
     ]
    }
   ],
   "source": [
    "print(datasets.shape)\n",
    "print(datasets.shape[1])\n",
    "dfOneHot = pd.DataFrame(x, columns = [\"FuelType_\"+str(int(i)) for i in range(x.shape[1])]) \n",
    "df = pd.concat([datasets, dfOneHot], axis=1) #column\n",
    "#droping the country column \n",
    "df= df.drop(['FuelType'], axis=1) \n",
    "#printing to verify \n",
    "print(df.head())"
   ]
  }
 ],
 "metadata": {
  "interpreter": {
   "hash": "4a7d7b00c9cd0920d5e43c350d4b3ac0eb9406bdba41b52f834698570e4e3c0a"
  },
  "kernelspec": {
   "display_name": "Python 3.9.6 64-bit",
   "language": "python",
   "name": "python3"
  },
  "language_info": {
   "codemirror_mode": {
    "name": "ipython",
    "version": 3
   },
   "file_extension": ".py",
   "mimetype": "text/x-python",
   "name": "python",
   "nbconvert_exporter": "python",
   "pygments_lexer": "ipython3",
   "version": "3.9.6"
  },
  "orig_nbformat": 4
 },
 "nbformat": 4,
 "nbformat_minor": 2
}
